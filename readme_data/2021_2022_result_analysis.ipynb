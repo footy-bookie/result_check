{
 "cells": [
  {
   "cell_type": "code",
   "execution_count": 59,
   "id": "f8f68ecd",
   "metadata": {},
   "outputs": [],
   "source": [
    "import google.auth\n",
    "import pandas as pd\n",
    "import pandas_gbq\n",
    "import seaborn as sns"
   ]
  },
  {
   "cell_type": "code",
   "execution_count": 2,
   "id": "17abc872",
   "metadata": {},
   "outputs": [],
   "source": [
    "def read_bigquery(dataset: str, table_name: str):\n",
    "    credentials, project_id = google.auth.default()\n",
    "    df = pandas_gbq.read_gbq('select * from `{}.{}.{}`'.format(project_id, dataset, table_name),\n",
    "                             project_id=project_id,\n",
    "                             credentials=credentials,\n",
    "                             location='europe-west3')\n",
    "\n",
    "    return df"
   ]
  },
  {
   "cell_type": "code",
   "execution_count": 3,
   "id": "10f0adc2",
   "metadata": {
    "scrolled": false
   },
   "outputs": [
    {
     "name": "stderr",
     "output_type": "stream",
     "text": [
      "Downloading: 100%|███████████████████████████████████████████████████████████████████████████████████████| 63/63 [00:00<00:00, 357.11rows/s]\n"
     ]
    }
   ],
   "source": [
    "df = read_bigquery('footy_data_warehouse', 'total_result_check')"
   ]
  },
  {
   "cell_type": "code",
   "execution_count": 11,
   "id": "bc203698",
   "metadata": {},
   "outputs": [
    {
     "data": {
      "text/html": [
       "<div>\n",
       "<style scoped>\n",
       "    .dataframe tbody tr th:only-of-type {\n",
       "        vertical-align: middle;\n",
       "    }\n",
       "\n",
       "    .dataframe tbody tr th {\n",
       "        vertical-align: top;\n",
       "    }\n",
       "\n",
       "    .dataframe thead th {\n",
       "        text-align: right;\n",
       "    }\n",
       "</style>\n",
       "<table border=\"1\" class=\"dataframe\">\n",
       "  <thead>\n",
       "    <tr style=\"text-align: right;\">\n",
       "      <th></th>\n",
       "      <th>match_id</th>\n",
       "      <th>date_GMT</th>\n",
       "      <th>status</th>\n",
       "      <th>home_team_name</th>\n",
       "      <th>away_team_name</th>\n",
       "      <th>real_result</th>\n",
       "      <th>possible_win</th>\n",
       "      <th>predicted_results</th>\n",
       "    </tr>\n",
       "  </thead>\n",
       "  <tbody>\n",
       "    <tr>\n",
       "      <th>0</th>\n",
       "      <td>305</td>\n",
       "      <td>May 14 2022 - 1:30pm</td>\n",
       "      <td>complete</td>\n",
       "      <td>Arminia Bielefeld</td>\n",
       "      <td>RB Leipzig</td>\n",
       "      <td>2.0</td>\n",
       "      <td>0</td>\n",
       "      <td>3.0</td>\n",
       "    </tr>\n",
       "    <tr>\n",
       "      <th>1</th>\n",
       "      <td>304</td>\n",
       "      <td>May 14 2022 - 1:30pm</td>\n",
       "      <td>complete</td>\n",
       "      <td>Augsburg</td>\n",
       "      <td>Greuther Fürth</td>\n",
       "      <td>3.0</td>\n",
       "      <td>0</td>\n",
       "      <td>1.0</td>\n",
       "    </tr>\n",
       "    <tr>\n",
       "      <th>2</th>\n",
       "      <td>299</td>\n",
       "      <td>May 14 2022 - 1:30pm</td>\n",
       "      <td>complete</td>\n",
       "      <td>Bayer Leverkusen</td>\n",
       "      <td>Freiburg</td>\n",
       "      <td>3.0</td>\n",
       "      <td>26</td>\n",
       "      <td>3.0</td>\n",
       "    </tr>\n",
       "    <tr>\n",
       "      <th>3</th>\n",
       "      <td>297</td>\n",
       "      <td>May 14 2022 - 1:30pm</td>\n",
       "      <td>complete</td>\n",
       "      <td>Borussia Dortmund</td>\n",
       "      <td>Hertha BSC</td>\n",
       "      <td>3.0</td>\n",
       "      <td>14</td>\n",
       "      <td>3.0</td>\n",
       "    </tr>\n",
       "    <tr>\n",
       "      <th>4</th>\n",
       "      <td>301</td>\n",
       "      <td>May 14 2022 - 1:30pm</td>\n",
       "      <td>complete</td>\n",
       "      <td>Borussia M'gladbach</td>\n",
       "      <td>Hoffenheim</td>\n",
       "      <td>3.0</td>\n",
       "      <td>0</td>\n",
       "      <td>1.0</td>\n",
       "    </tr>\n",
       "    <tr>\n",
       "      <th>...</th>\n",
       "      <td>...</td>\n",
       "      <td>...</td>\n",
       "      <td>...</td>\n",
       "      <td>...</td>\n",
       "      <td>...</td>\n",
       "      <td>...</td>\n",
       "      <td>...</td>\n",
       "      <td>...</td>\n",
       "    </tr>\n",
       "    <tr>\n",
       "      <th>58</th>\n",
       "      <td>257</td>\n",
       "      <td>Apr 09 2022 - 4:30pm</td>\n",
       "      <td>complete</td>\n",
       "      <td>Hertha BSC</td>\n",
       "      <td>Union Berlin</td>\n",
       "      <td>1.0</td>\n",
       "      <td>0</td>\n",
       "      <td>3.0</td>\n",
       "    </tr>\n",
       "    <tr>\n",
       "      <th>59</th>\n",
       "      <td>255</td>\n",
       "      <td>Apr 09 2022 - 1:30pm</td>\n",
       "      <td>complete</td>\n",
       "      <td>Köln</td>\n",
       "      <td>Mainz 05</td>\n",
       "      <td>3.0</td>\n",
       "      <td>25</td>\n",
       "      <td>3.0</td>\n",
       "    </tr>\n",
       "    <tr>\n",
       "      <th>60</th>\n",
       "      <td>260</td>\n",
       "      <td>Apr 10 2022 - 5:30pm</td>\n",
       "      <td>complete</td>\n",
       "      <td>RB Leipzig</td>\n",
       "      <td>Hoffenheim</td>\n",
       "      <td>3.0</td>\n",
       "      <td>15</td>\n",
       "      <td>3.0</td>\n",
       "    </tr>\n",
       "    <tr>\n",
       "      <th>61</th>\n",
       "      <td>252</td>\n",
       "      <td>Apr 08 2022 - 6:30pm</td>\n",
       "      <td>complete</td>\n",
       "      <td>Stuttgart</td>\n",
       "      <td>Borussia Dortmund</td>\n",
       "      <td>1.0</td>\n",
       "      <td>0</td>\n",
       "      <td>3.0</td>\n",
       "    </tr>\n",
       "    <tr>\n",
       "      <th>62</th>\n",
       "      <td>254</td>\n",
       "      <td>Apr 09 2022 - 1:30pm</td>\n",
       "      <td>complete</td>\n",
       "      <td>Wolfsburg</td>\n",
       "      <td>Arminia Bielefeld</td>\n",
       "      <td>3.0</td>\n",
       "      <td>19</td>\n",
       "      <td>3.0</td>\n",
       "    </tr>\n",
       "  </tbody>\n",
       "</table>\n",
       "<p>63 rows × 8 columns</p>\n",
       "</div>"
      ],
      "text/plain": [
       "    match_id              date_GMT    status       home_team_name  \\\n",
       "0        305  May 14 2022 - 1:30pm  complete    Arminia Bielefeld   \n",
       "1        304  May 14 2022 - 1:30pm  complete             Augsburg   \n",
       "2        299  May 14 2022 - 1:30pm  complete     Bayer Leverkusen   \n",
       "3        297  May 14 2022 - 1:30pm  complete    Borussia Dortmund   \n",
       "4        301  May 14 2022 - 1:30pm  complete  Borussia M'gladbach   \n",
       "..       ...                   ...       ...                  ...   \n",
       "58       257  Apr 09 2022 - 4:30pm  complete           Hertha BSC   \n",
       "59       255  Apr 09 2022 - 1:30pm  complete                 Köln   \n",
       "60       260  Apr 10 2022 - 5:30pm  complete           RB Leipzig   \n",
       "61       252  Apr 08 2022 - 6:30pm  complete            Stuttgart   \n",
       "62       254  Apr 09 2022 - 1:30pm  complete            Wolfsburg   \n",
       "\n",
       "       away_team_name  real_result  possible_win  predicted_results  \n",
       "0          RB Leipzig          2.0             0                3.0  \n",
       "1      Greuther Fürth          3.0             0                1.0  \n",
       "2            Freiburg          3.0            26                3.0  \n",
       "3          Hertha BSC          3.0            14                3.0  \n",
       "4          Hoffenheim          3.0             0                1.0  \n",
       "..                ...          ...           ...                ...  \n",
       "58       Union Berlin          1.0             0                3.0  \n",
       "59           Mainz 05          3.0            25                3.0  \n",
       "60         Hoffenheim          3.0            15                3.0  \n",
       "61  Borussia Dortmund          1.0             0                3.0  \n",
       "62  Arminia Bielefeld          3.0            19                3.0  \n",
       "\n",
       "[63 rows x 8 columns]"
      ]
     },
     "execution_count": 11,
     "metadata": {},
     "output_type": "execute_result"
    }
   ],
   "source": [
    "df"
   ]
  },
  {
   "cell_type": "code",
   "execution_count": 24,
   "id": "a78cb706",
   "metadata": {},
   "outputs": [
    {
     "name": "stdout",
     "output_type": "stream",
     "text": [
      "Betting 10 EUR per game, total profit for 7 games would have been: 71 EUR\n"
     ]
    }
   ],
   "source": [
    "print(\n",
    "    f\"Betting 10 EUR per game, total profit for {int(len(df)/9)} games would have been: {df.possible_win.sum()-(len(df)*10)} EUR\"\n",
    ")"
   ]
  },
  {
   "cell_type": "code",
   "execution_count": 38,
   "id": "675e2e2e",
   "metadata": {},
   "outputs": [],
   "source": [
    "l_real_result = list(df.real_result.value_counts())"
   ]
  },
  {
   "cell_type": "code",
   "execution_count": 6,
   "id": "364f7a34",
   "metadata": {},
   "outputs": [],
   "source": [
    "df_correct_bet = df[df['possible_win']!=0]"
   ]
  },
  {
   "cell_type": "code",
   "execution_count": 36,
   "id": "f1fb8027",
   "metadata": {},
   "outputs": [],
   "source": [
    "l_correct_bet=list(df_correct_bet.real_result.value_counts())\n",
    "l_correct_bet.append(0)"
   ]
  },
  {
   "cell_type": "code",
   "execution_count": 46,
   "id": "4c2e0a85",
   "metadata": {},
   "outputs": [],
   "source": [
    "share_3 = l_correct_bet[0] / l_real_result[0]\n",
    "share_1 = l_correct_bet[1] / l_real_result[1]\n",
    "share_2 = l_correct_bet[2] / l_real_result[2]"
   ]
  },
  {
   "cell_type": "code",
   "execution_count": 71,
   "id": "d18bb0a2",
   "metadata": {},
   "outputs": [],
   "source": [
    "df_bet_ratio = pd.DataFrame.from_dict(\n",
    "    {\"match_type\" :[\"c_homewin\",\"c_awaywin\", \"c_draw\"],  \"success_ratio\" :[share_3,  share_1, share_2]}\n",
    ")"
   ]
  },
  {
   "cell_type": "code",
   "execution_count": 72,
   "id": "8614e386",
   "metadata": {},
   "outputs": [],
   "source": [
    "df_bet_ratio.set_index(\"match_type\", inplace=True)"
   ]
  },
  {
   "cell_type": "code",
   "execution_count": 73,
   "id": "489b7a42",
   "metadata": {},
   "outputs": [],
   "source": [
    "sns.set(style='whitegrid', rc={'figure.figsize':(11.7,8.27)})\n",
    "sns.set_context('poster')"
   ]
  },
  {
   "cell_type": "code",
   "execution_count": 101,
   "id": "402a1933",
   "metadata": {},
   "outputs": [
    {
     "data": {
      "image/png": "[encoded data removed]",
      "text/plain": [
       "<Figure size 842.4x595.44 with 1 Axes>"
      ]
     },
     "metadata": {},
     "output_type": "display_data"
    }
   ],
   "source": [
    "import numpy as np\n",
    "ax=df_bet_ratio.plot.bar(title=\"Ratio Correct Estimated Games\", rot=.5)\n",
    "for p in ax.patches:\n",
    "    ax.annotate(str(p.get_height()), (p.get_x() * 1.005, p.get_height() * 1.005))\n"
   ]
  },
  {
   "cell_type": "code",
   "execution_count": null,
   "id": "33714cdb",
   "metadata": {},
   "outputs": [],
   "source": []
  },
  {
   "cell_type": "code",
   "execution_count": 78,
   "id": "a1901003",
   "metadata": {},
   "outputs": [
    {
     "data": {
      "text/plain": [
       "[25, 22, 16]"
      ]
     },
     "execution_count": 78,
     "metadata": {},
     "output_type": "execute_result"
    }
   ],
   "source": [
    "l_real_result"
   ]
  },
  {
   "cell_type": "code",
   "execution_count": 79,
   "id": "969af0b0",
   "metadata": {},
   "outputs": [
    {
     "data": {
      "text/plain": [
       "[19, 9, 0]"
      ]
     },
     "execution_count": 79,
     "metadata": {},
     "output_type": "execute_result"
    }
   ],
   "source": [
    "l_correct_bet"
   ]
  },
  {
   "cell_type": "code",
   "execution_count": 81,
   "id": "9563ca3a",
   "metadata": {},
   "outputs": [],
   "source": [
    "df_bet_ratio_absolut = pd.DataFrame.from_dict(\n",
    "    {\"match_type\" :[\"c_homewin\",\"c_awaywin\", \"c_draw\"], \"real_results\": l_real_result, \"correct_bet\" : l_correct_bet}\n",
    ")\n",
    "df_bet_ratio_absolut.set_index(\"match_type\", inplace=True)"
   ]
  },
  {
   "cell_type": "code",
   "execution_count": 85,
   "id": "bce6eefa",
   "metadata": {},
   "outputs": [
    {
     "data": {
      "text/html": [
       "<div>\n",
       "<style scoped>\n",
       "    .dataframe tbody tr th:only-of-type {\n",
       "        vertical-align: middle;\n",
       "    }\n",
       "\n",
       "    .dataframe tbody tr th {\n",
       "        vertical-align: top;\n",
       "    }\n",
       "\n",
       "    .dataframe thead th {\n",
       "        text-align: right;\n",
       "    }\n",
       "</style>\n",
       "<table border=\"1\" class=\"dataframe\">\n",
       "  <thead>\n",
       "    <tr style=\"text-align: right;\">\n",
       "      <th></th>\n",
       "      <th>real_results</th>\n",
       "      <th>correct_bet</th>\n",
       "    </tr>\n",
       "    <tr>\n",
       "      <th>match_type</th>\n",
       "      <th></th>\n",
       "      <th></th>\n",
       "    </tr>\n",
       "  </thead>\n",
       "  <tbody>\n",
       "    <tr>\n",
       "      <th>c_homewin</th>\n",
       "      <td>25</td>\n",
       "      <td>19</td>\n",
       "    </tr>\n",
       "    <tr>\n",
       "      <th>c_awaywin</th>\n",
       "      <td>22</td>\n",
       "      <td>9</td>\n",
       "    </tr>\n",
       "    <tr>\n",
       "      <th>c_draw</th>\n",
       "      <td>16</td>\n",
       "      <td>0</td>\n",
       "    </tr>\n",
       "  </tbody>\n",
       "</table>\n",
       "</div>"
      ],
      "text/plain": [
       "            real_results  correct_bet\n",
       "match_type                           \n",
       "c_homewin             25           19\n",
       "c_awaywin             22            9\n",
       "c_draw                16            0"
      ]
     },
     "execution_count": 85,
     "metadata": {},
     "output_type": "execute_result"
    }
   ],
   "source": [
    "df_bet_ratio_absolut"
   ]
  },
  {
   "cell_type": "code",
   "execution_count": 99,
   "id": "31a69dd2",
   "metadata": {
    "scrolled": false
   },
   "outputs": [
    {
     "data": {
      "image/png": "[encoded data removed]",
      "text/plain": [
       "<Figure size 842.4x595.44 with 1 Axes>"
      ]
     },
     "metadata": {},
     "output_type": "display_data"
    }
   ],
   "source": [
    "ax = df_bet_ratio_absolut.plot.bar(title=\"Ratio Correct Estimated Games\", rot=.5)\n",
    "for p in ax.patches:\n",
    "    ax.annotate(str(p.get_height()), (p.get_x() * 1.005, p.get_height() * 1.005))"
   ]
  },
  {
   "cell_type": "code",
   "execution_count": null,
   "id": "9930787b",
   "metadata": {},
   "outputs": [],
   "source": []
  },
  {
   "cell_type": "code",
   "execution_count": 103,
   "id": "940e806a",
   "metadata": {},
   "outputs": [],
   "source": [
    "df_correct_bet = df[df['possible_win']!=0]"
   ]
  },
  {
   "cell_type": "code",
   "execution_count": 120,
   "id": "1469f612",
   "metadata": {},
   "outputs": [
    {
     "data": {
      "text/plain": [
       "Union Berlin         3\n",
       "Bayer Leverkusen     2\n",
       "Borussia Dortmund    2\n",
       "Köln                 2\n",
       "Wolfsburg            2\n",
       "RB Leipzig           2\n",
       "Stuttgart            1\n",
       "Bochum               1\n",
       "Freiburg             1\n",
       "Mainz 05             1\n",
       "Augsburg             1\n",
       "Bayern München       1\n",
       "Name: home_team_name, dtype: int64"
      ]
     },
     "execution_count": 120,
     "metadata": {},
     "output_type": "execute_result"
    }
   ],
   "source": [
    "df_correct_bet[df_correct_bet['real_result']==3.0]['home_team_name'].value_counts()"
   ]
  },
  {
   "cell_type": "code",
   "execution_count": 117,
   "id": "6f1c50f7",
   "metadata": {},
   "outputs": [
    {
     "data": {
      "text/plain": [
       "RB Leipzig           2\n",
       "Bayer Leverkusen     1\n",
       "Union Berlin         1\n",
       "Borussia Dortmund    1\n",
       "Wolfsburg            1\n",
       "Bayern München       1\n",
       "Bochum               1\n",
       "Freiburg             1\n",
       "Name: away_team_name, dtype: int64"
      ]
     },
     "execution_count": 117,
     "metadata": {},
     "output_type": "execute_result"
    }
   ],
   "source": [
    "df_correct_bet[df_correct_bet['real_result']==1.0]['away_team_name'].value_counts()"
   ]
  },
  {
   "cell_type": "code",
   "execution_count": 129,
   "id": "b695dd33",
   "metadata": {},
   "outputs": [
    {
     "name": "stdout",
     "output_type": "stream",
     "text": [
      "Share of games predicted correctly and at least doubled the initial bet (10 EUR) 50.0 %\n"
     ]
    }
   ],
   "source": [
    "print(\n",
    "    f\"Share of games predicted correctly and at least doubled the initial bet (10 EUR) {len(df_correct_bet[df_correct_bet['possible_win'] > 20].sort_values('possible_win', ascending=False))/ len(df_correct_bet) * 100} %\"\n",
    ")"
   ]
  },
  {
   "cell_type": "code",
   "execution_count": 132,
   "id": "9bd2300a",
   "metadata": {},
   "outputs": [],
   "source": [
    "df_draw = df[df['real_result']==2]"
   ]
  },
  {
   "cell_type": "code",
   "execution_count": 133,
   "id": "cec5d3e6",
   "metadata": {
    "scrolled": true
   },
   "outputs": [
    {
     "data": {
      "text/html": [
       "<div>\n",
       "<style scoped>\n",
       "    .dataframe tbody tr th:only-of-type {\n",
       "        vertical-align: middle;\n",
       "    }\n",
       "\n",
       "    .dataframe tbody tr th {\n",
       "        vertical-align: top;\n",
       "    }\n",
       "\n",
       "    .dataframe thead th {\n",
       "        text-align: right;\n",
       "    }\n",
       "</style>\n",
       "<table border=\"1\" class=\"dataframe\">\n",
       "  <thead>\n",
       "    <tr style=\"text-align: right;\">\n",
       "      <th></th>\n",
       "      <th>match_id</th>\n",
       "      <th>date_GMT</th>\n",
       "      <th>status</th>\n",
       "      <th>home_team_name</th>\n",
       "      <th>away_team_name</th>\n",
       "      <th>real_result</th>\n",
       "      <th>possible_win</th>\n",
       "      <th>predicted_results</th>\n",
       "    </tr>\n",
       "  </thead>\n",
       "  <tbody>\n",
       "    <tr>\n",
       "      <th>0</th>\n",
       "      <td>305</td>\n",
       "      <td>May 14 2022 - 1:30pm</td>\n",
       "      <td>complete</td>\n",
       "      <td>Arminia Bielefeld</td>\n",
       "      <td>RB Leipzig</td>\n",
       "      <td>2.0</td>\n",
       "      <td>0</td>\n",
       "      <td>3.0</td>\n",
       "    </tr>\n",
       "    <tr>\n",
       "      <th>5</th>\n",
       "      <td>303</td>\n",
       "      <td>May 14 2022 - 1:30pm</td>\n",
       "      <td>complete</td>\n",
       "      <td>Mainz 05</td>\n",
       "      <td>Eintracht Frankfurt</td>\n",
       "      <td>2.0</td>\n",
       "      <td>0</td>\n",
       "      <td>3.0</td>\n",
       "    </tr>\n",
       "    <tr>\n",
       "      <th>8</th>\n",
       "      <td>298</td>\n",
       "      <td>May 14 2022 - 1:30pm</td>\n",
       "      <td>complete</td>\n",
       "      <td>Wolfsburg</td>\n",
       "      <td>Bayern München</td>\n",
       "      <td>2.0</td>\n",
       "      <td>0</td>\n",
       "      <td>1.0</td>\n",
       "    </tr>\n",
       "    <tr>\n",
       "      <th>11</th>\n",
       "      <td>272</td>\n",
       "      <td>Apr 23 2022 - 1:30pm</td>\n",
       "      <td>complete</td>\n",
       "      <td>Eintracht Frankfurt</td>\n",
       "      <td>Hoffenheim</td>\n",
       "      <td>2.0</td>\n",
       "      <td>0</td>\n",
       "      <td>3.0</td>\n",
       "    </tr>\n",
       "    <tr>\n",
       "      <th>12</th>\n",
       "      <td>273</td>\n",
       "      <td>Apr 23 2022 - 1:30pm</td>\n",
       "      <td>complete</td>\n",
       "      <td>Freiburg</td>\n",
       "      <td>Borussia M'gladbach</td>\n",
       "      <td>2.0</td>\n",
       "      <td>0</td>\n",
       "      <td>3.0</td>\n",
       "    </tr>\n",
       "    <tr>\n",
       "      <th>18</th>\n",
       "      <td>295</td>\n",
       "      <td>May 08 2022 - 3:30pm</td>\n",
       "      <td>complete</td>\n",
       "      <td>Bayern München</td>\n",
       "      <td>Stuttgart</td>\n",
       "      <td>2.0</td>\n",
       "      <td>0</td>\n",
       "      <td>3.0</td>\n",
       "    </tr>\n",
       "    <tr>\n",
       "      <th>20</th>\n",
       "      <td>294</td>\n",
       "      <td>May 08 2022 - 1:30pm</td>\n",
       "      <td>complete</td>\n",
       "      <td>Eintracht Frankfurt</td>\n",
       "      <td>Borussia M'gladbach</td>\n",
       "      <td>2.0</td>\n",
       "      <td>0</td>\n",
       "      <td>1.0</td>\n",
       "    </tr>\n",
       "    <tr>\n",
       "      <th>33</th>\n",
       "      <td>268</td>\n",
       "      <td>Apr 17 2022 - 3:30pm</td>\n",
       "      <td>complete</td>\n",
       "      <td>Hoffenheim</td>\n",
       "      <td>Greuther Fürth</td>\n",
       "      <td>2.0</td>\n",
       "      <td>0</td>\n",
       "      <td>3.0</td>\n",
       "    </tr>\n",
       "    <tr>\n",
       "      <th>34</th>\n",
       "      <td>263</td>\n",
       "      <td>Apr 16 2022 - 1:30pm</td>\n",
       "      <td>complete</td>\n",
       "      <td>Mainz 05</td>\n",
       "      <td>Stuttgart</td>\n",
       "      <td>2.0</td>\n",
       "      <td>0</td>\n",
       "      <td>3.0</td>\n",
       "    </tr>\n",
       "    <tr>\n",
       "      <th>36</th>\n",
       "      <td>284</td>\n",
       "      <td>Apr 30 2022 - 1:30pm</td>\n",
       "      <td>complete</td>\n",
       "      <td>Arminia Bielefeld</td>\n",
       "      <td>Hertha BSC</td>\n",
       "      <td>2.0</td>\n",
       "      <td>0</td>\n",
       "      <td>3.0</td>\n",
       "    </tr>\n",
       "    <tr>\n",
       "      <th>43</th>\n",
       "      <td>281</td>\n",
       "      <td>Apr 30 2022 - 1:30pm</td>\n",
       "      <td>complete</td>\n",
       "      <td>Stuttgart</td>\n",
       "      <td>Wolfsburg</td>\n",
       "      <td>2.0</td>\n",
       "      <td>0</td>\n",
       "      <td>1.0</td>\n",
       "    </tr>\n",
       "    <tr>\n",
       "      <th>44</th>\n",
       "      <td>279</td>\n",
       "      <td>Apr 29 2022 - 6:30pm</td>\n",
       "      <td>complete</td>\n",
       "      <td>Union Berlin</td>\n",
       "      <td>Greuther Fürth</td>\n",
       "      <td>2.0</td>\n",
       "      <td>0</td>\n",
       "      <td>3.0</td>\n",
       "    </tr>\n",
       "    <tr>\n",
       "      <th>45</th>\n",
       "      <td>247</td>\n",
       "      <td>Apr 02 2022 - 1:30pm</td>\n",
       "      <td>complete</td>\n",
       "      <td>Arminia Bielefeld</td>\n",
       "      <td>Stuttgart</td>\n",
       "      <td>2.0</td>\n",
       "      <td>0</td>\n",
       "      <td>3.0</td>\n",
       "    </tr>\n",
       "    <tr>\n",
       "      <th>49</th>\n",
       "      <td>250</td>\n",
       "      <td>Apr 03 2022 - 3:30pm</td>\n",
       "      <td>complete</td>\n",
       "      <td>Borussia M'gladbach</td>\n",
       "      <td>Mainz 05</td>\n",
       "      <td>2.0</td>\n",
       "      <td>0</td>\n",
       "      <td>3.0</td>\n",
       "    </tr>\n",
       "    <tr>\n",
       "      <th>50</th>\n",
       "      <td>243</td>\n",
       "      <td>Apr 02 2022 - 1:30pm</td>\n",
       "      <td>complete</td>\n",
       "      <td>Eintracht Frankfurt</td>\n",
       "      <td>Greuther Fürth</td>\n",
       "      <td>2.0</td>\n",
       "      <td>0</td>\n",
       "      <td>3.0</td>\n",
       "    </tr>\n",
       "    <tr>\n",
       "      <th>55</th>\n",
       "      <td>258</td>\n",
       "      <td>Apr 10 2022 - 1:30pm</td>\n",
       "      <td>complete</td>\n",
       "      <td>Bochum</td>\n",
       "      <td>Bayer Leverkusen</td>\n",
       "      <td>2.0</td>\n",
       "      <td>0</td>\n",
       "      <td>3.0</td>\n",
       "    </tr>\n",
       "  </tbody>\n",
       "</table>\n",
       "</div>"
      ],
      "text/plain": [
       "    match_id              date_GMT    status       home_team_name  \\\n",
       "0        305  May 14 2022 - 1:30pm  complete    Arminia Bielefeld   \n",
       "5        303  May 14 2022 - 1:30pm  complete             Mainz 05   \n",
       "8        298  May 14 2022 - 1:30pm  complete            Wolfsburg   \n",
       "11       272  Apr 23 2022 - 1:30pm  complete  Eintracht Frankfurt   \n",
       "12       273  Apr 23 2022 - 1:30pm  complete             Freiburg   \n",
       "18       295  May 08 2022 - 3:30pm  complete       Bayern München   \n",
       "20       294  May 08 2022 - 1:30pm  complete  Eintracht Frankfurt   \n",
       "33       268  Apr 17 2022 - 3:30pm  complete           Hoffenheim   \n",
       "34       263  Apr 16 2022 - 1:30pm  complete             Mainz 05   \n",
       "36       284  Apr 30 2022 - 1:30pm  complete    Arminia Bielefeld   \n",
       "43       281  Apr 30 2022 - 1:30pm  complete            Stuttgart   \n",
       "44       279  Apr 29 2022 - 6:30pm  complete         Union Berlin   \n",
       "45       247  Apr 02 2022 - 1:30pm  complete    Arminia Bielefeld   \n",
       "49       250  Apr 03 2022 - 3:30pm  complete  Borussia M'gladbach   \n",
       "50       243  Apr 02 2022 - 1:30pm  complete  Eintracht Frankfurt   \n",
       "55       258  Apr 10 2022 - 1:30pm  complete               Bochum   \n",
       "\n",
       "         away_team_name  real_result  possible_win  predicted_results  \n",
       "0            RB Leipzig          2.0             0                3.0  \n",
       "5   Eintracht Frankfurt          2.0             0                3.0  \n",
       "8        Bayern München          2.0             0                1.0  \n",
       "11           Hoffenheim          2.0             0                3.0  \n",
       "12  Borussia M'gladbach          2.0             0                3.0  \n",
       "18            Stuttgart          2.0             0                3.0  \n",
       "20  Borussia M'gladbach          2.0             0                1.0  \n",
       "33       Greuther Fürth          2.0             0                3.0  \n",
       "34            Stuttgart          2.0             0                3.0  \n",
       "36           Hertha BSC          2.0             0                3.0  \n",
       "43            Wolfsburg          2.0             0                1.0  \n",
       "44       Greuther Fürth          2.0             0                3.0  \n",
       "45            Stuttgart          2.0             0                3.0  \n",
       "49             Mainz 05          2.0             0                3.0  \n",
       "50       Greuther Fürth          2.0             0                3.0  \n",
       "55     Bayer Leverkusen          2.0             0                3.0  "
      ]
     },
     "execution_count": 133,
     "metadata": {},
     "output_type": "execute_result"
    }
   ],
   "source": [
    "df_draw"
   ]
  },
  {
   "cell_type": "markdown",
   "id": "fd35a96d",
   "metadata": {},
   "source": [
    "# TODO: Improve betting Results for DRAWS"
   ]
  },
  {
   "cell_type": "code",
   "execution_count": null,
   "id": "83a10a25",
   "metadata": {},
   "outputs": [],
   "source": []
  }
 ],
 "metadata": {
  "kernelspec": {
   "display_name": "Python 3 (ipykernel)",
   "language": "python",
   "name": "python3"
  },
  "language_info": {
   "codemirror_mode": {
    "name": "ipython",
    "version": 3
   },
   "file_extension": ".py",
   "mimetype": "text/x-python",
   "name": "python",
   "nbconvert_exporter": "python",
   "pygments_lexer": "ipython3",
   "version": "3.9.2rc1"
  }
 },
 "nbformat": 4,
 "nbformat_minor": 5
}
